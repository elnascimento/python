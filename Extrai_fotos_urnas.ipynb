{
  "nbformat": 4,
  "nbformat_minor": 0,
  "metadata": {
    "colab": {
      "provenance": [],
      "authorship_tag": "ABX9TyODOqnyJd7WGnHmKQSGIwyq",
      "include_colab_link": true
    },
    "kernelspec": {
      "name": "python3",
      "display_name": "Python 3"
    },
    "language_info": {
      "name": "python"
    }
  },
  "cells": [
    {
      "cell_type": "markdown",
      "metadata": {
        "id": "view-in-github",
        "colab_type": "text"
      },
      "source": [
        "<a href=\"https://colab.research.google.com/github/elnascimento/python/blob/master/Extrai_fotos_urnas.ipynb\" target=\"_parent\"><img src=\"https://colab.research.google.com/assets/colab-badge.svg\" alt=\"Open In Colab\"/></a>"
      ]
    },
    {
      "cell_type": "code",
      "execution_count": null,
      "metadata": {
        "id": "X6hBso0HM_fA"
      },
      "outputs": [],
      "source": [
        "!pip install openpyxl pandas pillow"
      ]
    },
    {
      "cell_type": "code",
      "source": [
        "import pandas as pd\n",
        "import openpyxl\n",
        "from PIL import Image\n",
        "\n",
        "# Load the spreadsheet\n",
        "spreadsheet_path = \"<Your_Spreadsheet_Path>\"\n",
        "data = pd.read_excel(spreadsheet_path, skiprows=range(0, 8))\n",
        "\n",
        "# Load the spreadsheet again with openpyxl to access the images\n",
        "wb = openpyxl.load_workbook(spreadsheet_path)\n",
        "ws = wb.active\n",
        "\n",
        "# Iterate over the rows in the dataframe\n",
        "for index, row in data.iterrows():\n",
        "    # Construct the image filename from the '3-Número' and '2 - Nome para a Urna Eletrônica' columns\n",
        "    filename = f\"{int(row['3-Número'])} - {row['2 - Nome para a Urna Eletrônica'].strip()}.jpg\"\n",
        "\n",
        "    # Extract the image from the '5-Foto ' cell\n",
        "    img_cell = ws[f'F{index + 9}']\n",
        "    if img_cell.value is not None:\n",
        "        img = Image.open(io.BytesIO(img_cell.value))\n",
        "        img.save(filename)\n"
      ],
      "metadata": {
        "id": "h4Ieh-oSNB6_"
      },
      "execution_count": null,
      "outputs": []
    }
  ]
}